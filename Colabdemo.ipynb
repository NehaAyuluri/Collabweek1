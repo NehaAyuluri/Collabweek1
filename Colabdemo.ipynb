{
  "nbformat": 4,
  "nbformat_minor": 0,
  "metadata": {
    "colab": {
      "name": "Colabdemo.ipynb",
      "provenance": [],
      "toc_visible": true,
      "authorship_tag": "ABX9TyOY7R6pRVnDxE+qKW9d+UA5",
      "include_colab_link": true
    },
    "kernelspec": {
      "name": "python3",
      "display_name": "Python 3"
    }
  },
  "cells": [
    {
      "cell_type": "markdown",
      "metadata": {
        "id": "view-in-github",
        "colab_type": "text"
      },
      "source": [
        "<a href=\"https://colab.research.google.com/github/NehaAyuluri/Collabweek1/blob/master/Colabdemo.ipynb\" target=\"_parent\"><img src=\"https://colab.research.google.com/assets/colab-badge.svg\" alt=\"Open In Colab\"/></a>"
      ]
    },
    {
      "cell_type": "code",
      "metadata": {
        "id": "C9Zr3YwBMcE6",
        "colab_type": "code",
        "colab": {}
      },
      "source": [
        ""
      ],
      "execution_count": 0,
      "outputs": []
    },
    {
      "cell_type": "markdown",
      "metadata": {
        "id": "dCuiH0mEMiYf",
        "colab_type": "text"
      },
      "source": [
        "##Learning google colab \n"
      ]
    },
    {
      "cell_type": "markdown",
      "metadata": {
        "id": "1tXVHwkSMvzC",
        "colab_type": "text"
      },
      "source": [
        ""
      ]
    },
    {
      "cell_type": "code",
      "metadata": {
        "id": "a9JKT0fMNG2O",
        "colab_type": "code",
        "colab": {
          "base_uri": "https://localhost:8080/",
          "height": 35
        },
        "outputId": "4751ffb2-4c29-4a6d-f0dd-7d4e37868a7c"
      },
      "source": [
        "print(\"Learning collab\")\n"
      ],
      "execution_count": 1,
      "outputs": [
        {
          "output_type": "stream",
          "text": [
            "Learning collab\n"
          ],
          "name": "stdout"
        }
      ]
    },
    {
      "cell_type": "markdown",
      "metadata": {
        "id": "P-tHpgxHYqOg",
        "colab_type": "text"
      },
      "source": [
        "##Image\n",
        "![alt text](https://user-images.githubusercontent.com/56847819/73123630-ea166280-3f5f-11ea-9038-35d30d946cce.JPG)\n"
      ]
    },
    {
      "cell_type": "code",
      "metadata": {
        "id": "kpqh8G-AaCgP",
        "colab_type": "code",
        "colab": {}
      },
      "source": [
        ""
      ],
      "execution_count": 0,
      "outputs": []
    }
  ]
}